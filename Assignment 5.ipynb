{
 "cells": [
  {
   "cell_type": "markdown",
   "id": "2895f42c",
   "metadata": {
    "papermill": {
     "duration": 0.006748,
     "end_time": "2025-06-05T18:02:27.951231",
     "exception": false,
     "start_time": "2025-06-05T18:02:27.944483",
     "status": "completed"
    },
    "tags": []
   },
   "source": [
    "# 1. House Prices"
   ]
  },
  {
   "cell_type": "markdown",
   "id": "cc82b7f5",
   "metadata": {
    "papermill": {
     "duration": 0.006097,
     "end_time": "2025-06-05T18:02:27.974572",
     "exception": false,
     "start_time": "2025-06-05T18:02:27.968475",
     "status": "completed"
    },
    "tags": []
   },
   "source": [
    "## 2. Load and explore the data\n"
   ]
  },
  {
   "cell_type": "code",
   "execution_count": 1,
   "id": "d5262d47",
   "metadata": {
    "_cell_guid": "b1076dfc-b9ad-4769-8c92-a6c4dae69d19",
    "_uuid": "8f2839f25d086af736a60e9eeb907d3b93b6e0e5",
    "execution": {
     "iopub.execute_input": "2025-06-05T18:02:27.987764Z",
     "iopub.status.busy": "2025-06-05T18:02:27.987408Z",
     "iopub.status.idle": "2025-06-05T18:02:30.212419Z",
     "shell.execute_reply": "2025-06-05T18:02:30.211193Z"
    },
    "papermill": {
     "duration": 2.233785,
     "end_time": "2025-06-05T18:02:30.214150",
     "exception": false,
     "start_time": "2025-06-05T18:02:27.980365",
     "status": "completed"
    },
    "tags": []
   },
   "outputs": [],
   "source": [
    "import numpy as np\n",
    "import pandas as pd\n"
   ]
  },
  {
   "cell_type": "code",
   "execution_count": null,
   "id": "c6d352a9",
   "metadata": {
    "execution": {
     "iopub.execute_input": "2025-06-05T18:02:30.228106Z",
     "iopub.status.busy": "2025-06-05T18:02:30.227652Z",
     "iopub.status.idle": "2025-06-05T18:02:30.346953Z",
     "shell.execute_reply": "2025-06-05T18:02:30.345613Z"
    },
    "papermill": {
     "duration": 0.128547,
     "end_time": "2025-06-05T18:02:30.348924",
     "exception": false,
     "start_time": "2025-06-05T18:02:30.220377",
     "status": "completed"
    },
    "tags": []
   },
   "outputs": [
    {
     "name": "stdout",
     "output_type": "stream",
     "text": [
      "Train shape: (1460, 81)\n",
      "Test shape: (1459, 80)\n"
     ]
    }
   ],
   "source": [
    "train_df = pd.read_csv(\"train.csv\")\n",
    "test_df = pd.read_csv(\"test.csv\")\n",
    "\n",
    "print(f\"Train shape: {train_df.shape}\")\n",
    "print(f\"Test shape: {test_df.shape}\")\n"
   ]
  },
  {
   "cell_type": "code",
   "execution_count": 3,
   "id": "1ac051e7",
   "metadata": {
    "execution": {
     "iopub.execute_input": "2025-06-05T18:02:30.362562Z",
     "iopub.status.busy": "2025-06-05T18:02:30.362185Z",
     "iopub.status.idle": "2025-06-05T18:02:30.405205Z",
     "shell.execute_reply": "2025-06-05T18:02:30.404068Z"
    },
    "papermill": {
     "duration": 0.05198,
     "end_time": "2025-06-05T18:02:30.407145",
     "exception": false,
     "start_time": "2025-06-05T18:02:30.355165",
     "status": "completed"
    },
    "tags": []
   },
   "outputs": [
    {
     "data": {
      "text/html": [
       "<div>\n",
       "<style scoped>\n",
       "    .dataframe tbody tr th:only-of-type {\n",
       "        vertical-align: middle;\n",
       "    }\n",
       "\n",
       "    .dataframe tbody tr th {\n",
       "        vertical-align: top;\n",
       "    }\n",
       "\n",
       "    .dataframe thead th {\n",
       "        text-align: right;\n",
       "    }\n",
       "</style>\n",
       "<table border=\"1\" class=\"dataframe\">\n",
       "  <thead>\n",
       "    <tr style=\"text-align: right;\">\n",
       "      <th></th>\n",
       "      <th>Id</th>\n",
       "      <th>MSSubClass</th>\n",
       "      <th>MSZoning</th>\n",
       "      <th>LotFrontage</th>\n",
       "      <th>LotArea</th>\n",
       "      <th>Street</th>\n",
       "      <th>Alley</th>\n",
       "      <th>LotShape</th>\n",
       "      <th>LandContour</th>\n",
       "      <th>Utilities</th>\n",
       "      <th>...</th>\n",
       "      <th>PoolArea</th>\n",
       "      <th>PoolQC</th>\n",
       "      <th>Fence</th>\n",
       "      <th>MiscFeature</th>\n",
       "      <th>MiscVal</th>\n",
       "      <th>MoSold</th>\n",
       "      <th>YrSold</th>\n",
       "      <th>SaleType</th>\n",
       "      <th>SaleCondition</th>\n",
       "      <th>SalePrice</th>\n",
       "    </tr>\n",
       "  </thead>\n",
       "  <tbody>\n",
       "    <tr>\n",
       "      <th>0</th>\n",
       "      <td>1</td>\n",
       "      <td>60</td>\n",
       "      <td>RL</td>\n",
       "      <td>65.0</td>\n",
       "      <td>8450</td>\n",
       "      <td>Pave</td>\n",
       "      <td>NaN</td>\n",
       "      <td>Reg</td>\n",
       "      <td>Lvl</td>\n",
       "      <td>AllPub</td>\n",
       "      <td>...</td>\n",
       "      <td>0</td>\n",
       "      <td>NaN</td>\n",
       "      <td>NaN</td>\n",
       "      <td>NaN</td>\n",
       "      <td>0</td>\n",
       "      <td>2</td>\n",
       "      <td>2008</td>\n",
       "      <td>WD</td>\n",
       "      <td>Normal</td>\n",
       "      <td>208500</td>\n",
       "    </tr>\n",
       "    <tr>\n",
       "      <th>1</th>\n",
       "      <td>2</td>\n",
       "      <td>20</td>\n",
       "      <td>RL</td>\n",
       "      <td>80.0</td>\n",
       "      <td>9600</td>\n",
       "      <td>Pave</td>\n",
       "      <td>NaN</td>\n",
       "      <td>Reg</td>\n",
       "      <td>Lvl</td>\n",
       "      <td>AllPub</td>\n",
       "      <td>...</td>\n",
       "      <td>0</td>\n",
       "      <td>NaN</td>\n",
       "      <td>NaN</td>\n",
       "      <td>NaN</td>\n",
       "      <td>0</td>\n",
       "      <td>5</td>\n",
       "      <td>2007</td>\n",
       "      <td>WD</td>\n",
       "      <td>Normal</td>\n",
       "      <td>181500</td>\n",
       "    </tr>\n",
       "    <tr>\n",
       "      <th>2</th>\n",
       "      <td>3</td>\n",
       "      <td>60</td>\n",
       "      <td>RL</td>\n",
       "      <td>68.0</td>\n",
       "      <td>11250</td>\n",
       "      <td>Pave</td>\n",
       "      <td>NaN</td>\n",
       "      <td>IR1</td>\n",
       "      <td>Lvl</td>\n",
       "      <td>AllPub</td>\n",
       "      <td>...</td>\n",
       "      <td>0</td>\n",
       "      <td>NaN</td>\n",
       "      <td>NaN</td>\n",
       "      <td>NaN</td>\n",
       "      <td>0</td>\n",
       "      <td>9</td>\n",
       "      <td>2008</td>\n",
       "      <td>WD</td>\n",
       "      <td>Normal</td>\n",
       "      <td>223500</td>\n",
       "    </tr>\n",
       "    <tr>\n",
       "      <th>3</th>\n",
       "      <td>4</td>\n",
       "      <td>70</td>\n",
       "      <td>RL</td>\n",
       "      <td>60.0</td>\n",
       "      <td>9550</td>\n",
       "      <td>Pave</td>\n",
       "      <td>NaN</td>\n",
       "      <td>IR1</td>\n",
       "      <td>Lvl</td>\n",
       "      <td>AllPub</td>\n",
       "      <td>...</td>\n",
       "      <td>0</td>\n",
       "      <td>NaN</td>\n",
       "      <td>NaN</td>\n",
       "      <td>NaN</td>\n",
       "      <td>0</td>\n",
       "      <td>2</td>\n",
       "      <td>2006</td>\n",
       "      <td>WD</td>\n",
       "      <td>Abnorml</td>\n",
       "      <td>140000</td>\n",
       "    </tr>\n",
       "    <tr>\n",
       "      <th>4</th>\n",
       "      <td>5</td>\n",
       "      <td>60</td>\n",
       "      <td>RL</td>\n",
       "      <td>84.0</td>\n",
       "      <td>14260</td>\n",
       "      <td>Pave</td>\n",
       "      <td>NaN</td>\n",
       "      <td>IR1</td>\n",
       "      <td>Lvl</td>\n",
       "      <td>AllPub</td>\n",
       "      <td>...</td>\n",
       "      <td>0</td>\n",
       "      <td>NaN</td>\n",
       "      <td>NaN</td>\n",
       "      <td>NaN</td>\n",
       "      <td>0</td>\n",
       "      <td>12</td>\n",
       "      <td>2008</td>\n",
       "      <td>WD</td>\n",
       "      <td>Normal</td>\n",
       "      <td>250000</td>\n",
       "    </tr>\n",
       "  </tbody>\n",
       "</table>\n",
       "<p>5 rows × 81 columns</p>\n",
       "</div>"
      ],
      "text/plain": [
       "   Id  MSSubClass MSZoning  LotFrontage  LotArea Street Alley LotShape  \\\n",
       "0   1          60       RL         65.0     8450   Pave   NaN      Reg   \n",
       "1   2          20       RL         80.0     9600   Pave   NaN      Reg   \n",
       "2   3          60       RL         68.0    11250   Pave   NaN      IR1   \n",
       "3   4          70       RL         60.0     9550   Pave   NaN      IR1   \n",
       "4   5          60       RL         84.0    14260   Pave   NaN      IR1   \n",
       "\n",
       "  LandContour Utilities  ... PoolArea PoolQC Fence MiscFeature MiscVal MoSold  \\\n",
       "0         Lvl    AllPub  ...        0    NaN   NaN         NaN       0      2   \n",
       "1         Lvl    AllPub  ...        0    NaN   NaN         NaN       0      5   \n",
       "2         Lvl    AllPub  ...        0    NaN   NaN         NaN       0      9   \n",
       "3         Lvl    AllPub  ...        0    NaN   NaN         NaN       0      2   \n",
       "4         Lvl    AllPub  ...        0    NaN   NaN         NaN       0     12   \n",
       "\n",
       "  YrSold  SaleType  SaleCondition  SalePrice  \n",
       "0   2008        WD         Normal     208500  \n",
       "1   2007        WD         Normal     181500  \n",
       "2   2008        WD         Normal     223500  \n",
       "3   2006        WD        Abnorml     140000  \n",
       "4   2008        WD         Normal     250000  \n",
       "\n",
       "[5 rows x 81 columns]"
      ]
     },
     "execution_count": 3,
     "metadata": {},
     "output_type": "execute_result"
    }
   ],
   "source": [
    "train_df.head()\n"
   ]
  },
  {
   "cell_type": "code",
   "execution_count": 4,
   "id": "128158b8",
   "metadata": {
    "execution": {
     "iopub.execute_input": "2025-06-05T18:02:30.422606Z",
     "iopub.status.busy": "2025-06-05T18:02:30.422048Z",
     "iopub.status.idle": "2025-06-05T18:02:30.452873Z",
     "shell.execute_reply": "2025-06-05T18:02:30.451602Z"
    },
    "papermill": {
     "duration": 0.040123,
     "end_time": "2025-06-05T18:02:30.454469",
     "exception": false,
     "start_time": "2025-06-05T18:02:30.414346",
     "status": "completed"
    },
    "tags": []
   },
   "outputs": [
    {
     "name": "stdout",
     "output_type": "stream",
     "text": [
      "<class 'pandas.core.frame.DataFrame'>\n",
      "RangeIndex: 1460 entries, 0 to 1459\n",
      "Data columns (total 81 columns):\n",
      " #   Column         Non-Null Count  Dtype  \n",
      "---  ------         --------------  -----  \n",
      " 0   Id             1460 non-null   int64  \n",
      " 1   MSSubClass     1460 non-null   int64  \n",
      " 2   MSZoning       1460 non-null   object \n",
      " 3   LotFrontage    1201 non-null   float64\n",
      " 4   LotArea        1460 non-null   int64  \n",
      " 5   Street         1460 non-null   object \n",
      " 6   Alley          91 non-null     object \n",
      " 7   LotShape       1460 non-null   object \n",
      " 8   LandContour    1460 non-null   object \n",
      " 9   Utilities      1460 non-null   object \n",
      " 10  LotConfig      1460 non-null   object \n",
      " 11  LandSlope      1460 non-null   object \n",
      " 12  Neighborhood   1460 non-null   object \n",
      " 13  Condition1     1460 non-null   object \n",
      " 14  Condition2     1460 non-null   object \n",
      " 15  BldgType       1460 non-null   object \n",
      " 16  HouseStyle     1460 non-null   object \n",
      " 17  OverallQual    1460 non-null   int64  \n",
      " 18  OverallCond    1460 non-null   int64  \n",
      " 19  YearBuilt      1460 non-null   int64  \n",
      " 20  YearRemodAdd   1460 non-null   int64  \n",
      " 21  RoofStyle      1460 non-null   object \n",
      " 22  RoofMatl       1460 non-null   object \n",
      " 23  Exterior1st    1460 non-null   object \n",
      " 24  Exterior2nd    1460 non-null   object \n",
      " 25  MasVnrType     588 non-null    object \n",
      " 26  MasVnrArea     1452 non-null   float64\n",
      " 27  ExterQual      1460 non-null   object \n",
      " 28  ExterCond      1460 non-null   object \n",
      " 29  Foundation     1460 non-null   object \n",
      " 30  BsmtQual       1423 non-null   object \n",
      " 31  BsmtCond       1423 non-null   object \n",
      " 32  BsmtExposure   1422 non-null   object \n",
      " 33  BsmtFinType1   1423 non-null   object \n",
      " 34  BsmtFinSF1     1460 non-null   int64  \n",
      " 35  BsmtFinType2   1422 non-null   object \n",
      " 36  BsmtFinSF2     1460 non-null   int64  \n",
      " 37  BsmtUnfSF      1460 non-null   int64  \n",
      " 38  TotalBsmtSF    1460 non-null   int64  \n",
      " 39  Heating        1460 non-null   object \n",
      " 40  HeatingQC      1460 non-null   object \n",
      " 41  CentralAir     1460 non-null   object \n",
      " 42  Electrical     1459 non-null   object \n",
      " 43  1stFlrSF       1460 non-null   int64  \n",
      " 44  2ndFlrSF       1460 non-null   int64  \n",
      " 45  LowQualFinSF   1460 non-null   int64  \n",
      " 46  GrLivArea      1460 non-null   int64  \n",
      " 47  BsmtFullBath   1460 non-null   int64  \n",
      " 48  BsmtHalfBath   1460 non-null   int64  \n",
      " 49  FullBath       1460 non-null   int64  \n",
      " 50  HalfBath       1460 non-null   int64  \n",
      " 51  BedroomAbvGr   1460 non-null   int64  \n",
      " 52  KitchenAbvGr   1460 non-null   int64  \n",
      " 53  KitchenQual    1460 non-null   object \n",
      " 54  TotRmsAbvGrd   1460 non-null   int64  \n",
      " 55  Functional     1460 non-null   object \n",
      " 56  Fireplaces     1460 non-null   int64  \n",
      " 57  FireplaceQu    770 non-null    object \n",
      " 58  GarageType     1379 non-null   object \n",
      " 59  GarageYrBlt    1379 non-null   float64\n",
      " 60  GarageFinish   1379 non-null   object \n",
      " 61  GarageCars     1460 non-null   int64  \n",
      " 62  GarageArea     1460 non-null   int64  \n",
      " 63  GarageQual     1379 non-null   object \n",
      " 64  GarageCond     1379 non-null   object \n",
      " 65  PavedDrive     1460 non-null   object \n",
      " 66  WoodDeckSF     1460 non-null   int64  \n",
      " 67  OpenPorchSF    1460 non-null   int64  \n",
      " 68  EnclosedPorch  1460 non-null   int64  \n",
      " 69  3SsnPorch      1460 non-null   int64  \n",
      " 70  ScreenPorch    1460 non-null   int64  \n",
      " 71  PoolArea       1460 non-null   int64  \n",
      " 72  PoolQC         7 non-null      object \n",
      " 73  Fence          281 non-null    object \n",
      " 74  MiscFeature    54 non-null     object \n",
      " 75  MiscVal        1460 non-null   int64  \n",
      " 76  MoSold         1460 non-null   int64  \n",
      " 77  YrSold         1460 non-null   int64  \n",
      " 78  SaleType       1460 non-null   object \n",
      " 79  SaleCondition  1460 non-null   object \n",
      " 80  SalePrice      1460 non-null   int64  \n",
      "dtypes: float64(3), int64(35), object(43)\n",
      "memory usage: 924.0+ KB\n"
     ]
    }
   ],
   "source": [
    "train_df.info()\n"
   ]
  },
  {
   "cell_type": "markdown",
   "id": "5b44f114",
   "metadata": {
    "papermill": {
     "duration": 0.00609,
     "end_time": "2025-06-05T18:02:30.466966",
     "exception": false,
     "start_time": "2025-06-05T18:02:30.460876",
     "status": "completed"
    },
    "tags": []
   },
   "source": [
    "From the `.info()` output, we can already identify several important issues to address before modeling:\n",
    "\n",
    "- Some features have a **very high percentage of missing values**, such as `PoolQC`, `Alley`, `MiscFeature`, and `Fence`. These are likely to be dropped or filled with \"None\" if they represent the absence of a feature (e.g., no pool, no fence).\n",
    "- Features like `FireplaceQu`, `Garage*`, and `Bsmt*` have a moderate amount of missing values and may require **careful imputation** based on domain knowledge (e.g., does a missing garage indicate no garage, or missing data?).\n",
    "- `GarageYrBlt` is stored as a `float64` due to missing values, but it's actually a **year** and should be treated accordingly.\n",
    "- The dataset contains a mix of **categorical**, **ordinal**, and **numerical** variables, which will require different encoding strategies.\n",
    "- The `Id` column is a unique identifier and has no predictive power — we will drop it before training.\n",
    "\n",
    "We will further analyze the missing values and their distribution in the next step.\n"
   ]
  },
  {
   "cell_type": "code",
   "execution_count": 5,
   "id": "8186da71",
   "metadata": {
    "execution": {
     "iopub.execute_input": "2025-06-05T18:02:30.481040Z",
     "iopub.status.busy": "2025-06-05T18:02:30.480714Z",
     "iopub.status.idle": "2025-06-05T18:02:30.566455Z",
     "shell.execute_reply": "2025-06-05T18:02:30.565298Z"
    },
    "papermill": {
     "duration": 0.095486,
     "end_time": "2025-06-05T18:02:30.568700",
     "exception": false,
     "start_time": "2025-06-05T18:02:30.473214",
     "status": "completed"
    },
    "tags": []
   },
   "outputs": [
    {
     "data": {
      "text/html": [
       "<div>\n",
       "<style scoped>\n",
       "    .dataframe tbody tr th:only-of-type {\n",
       "        vertical-align: middle;\n",
       "    }\n",
       "\n",
       "    .dataframe tbody tr th {\n",
       "        vertical-align: top;\n",
       "    }\n",
       "\n",
       "    .dataframe thead th {\n",
       "        text-align: right;\n",
       "    }\n",
       "</style>\n",
       "<table border=\"1\" class=\"dataframe\">\n",
       "  <thead>\n",
       "    <tr style=\"text-align: right;\">\n",
       "      <th></th>\n",
       "      <th>Id</th>\n",
       "      <th>MSSubClass</th>\n",
       "      <th>LotFrontage</th>\n",
       "      <th>LotArea</th>\n",
       "      <th>OverallQual</th>\n",
       "      <th>OverallCond</th>\n",
       "      <th>YearBuilt</th>\n",
       "      <th>YearRemodAdd</th>\n",
       "      <th>MasVnrArea</th>\n",
       "      <th>BsmtFinSF1</th>\n",
       "      <th>...</th>\n",
       "      <th>WoodDeckSF</th>\n",
       "      <th>OpenPorchSF</th>\n",
       "      <th>EnclosedPorch</th>\n",
       "      <th>3SsnPorch</th>\n",
       "      <th>ScreenPorch</th>\n",
       "      <th>PoolArea</th>\n",
       "      <th>MiscVal</th>\n",
       "      <th>MoSold</th>\n",
       "      <th>YrSold</th>\n",
       "      <th>SalePrice</th>\n",
       "    </tr>\n",
       "  </thead>\n",
       "  <tbody>\n",
       "    <tr>\n",
       "      <th>count</th>\n",
       "      <td>1460.000000</td>\n",
       "      <td>1460.000000</td>\n",
       "      <td>1201.000000</td>\n",
       "      <td>1460.000000</td>\n",
       "      <td>1460.000000</td>\n",
       "      <td>1460.000000</td>\n",
       "      <td>1460.000000</td>\n",
       "      <td>1460.000000</td>\n",
       "      <td>1452.000000</td>\n",
       "      <td>1460.000000</td>\n",
       "      <td>...</td>\n",
       "      <td>1460.000000</td>\n",
       "      <td>1460.000000</td>\n",
       "      <td>1460.000000</td>\n",
       "      <td>1460.000000</td>\n",
       "      <td>1460.000000</td>\n",
       "      <td>1460.000000</td>\n",
       "      <td>1460.000000</td>\n",
       "      <td>1460.000000</td>\n",
       "      <td>1460.000000</td>\n",
       "      <td>1460.000000</td>\n",
       "    </tr>\n",
       "    <tr>\n",
       "      <th>mean</th>\n",
       "      <td>730.500000</td>\n",
       "      <td>56.897260</td>\n",
       "      <td>70.049958</td>\n",
       "      <td>10516.828082</td>\n",
       "      <td>6.099315</td>\n",
       "      <td>5.575342</td>\n",
       "      <td>1971.267808</td>\n",
       "      <td>1984.865753</td>\n",
       "      <td>103.685262</td>\n",
       "      <td>443.639726</td>\n",
       "      <td>...</td>\n",
       "      <td>94.244521</td>\n",
       "      <td>46.660274</td>\n",
       "      <td>21.954110</td>\n",
       "      <td>3.409589</td>\n",
       "      <td>15.060959</td>\n",
       "      <td>2.758904</td>\n",
       "      <td>43.489041</td>\n",
       "      <td>6.321918</td>\n",
       "      <td>2007.815753</td>\n",
       "      <td>180921.195890</td>\n",
       "    </tr>\n",
       "    <tr>\n",
       "      <th>std</th>\n",
       "      <td>421.610009</td>\n",
       "      <td>42.300571</td>\n",
       "      <td>24.284752</td>\n",
       "      <td>9981.264932</td>\n",
       "      <td>1.382997</td>\n",
       "      <td>1.112799</td>\n",
       "      <td>30.202904</td>\n",
       "      <td>20.645407</td>\n",
       "      <td>181.066207</td>\n",
       "      <td>456.098091</td>\n",
       "      <td>...</td>\n",
       "      <td>125.338794</td>\n",
       "      <td>66.256028</td>\n",
       "      <td>61.119149</td>\n",
       "      <td>29.317331</td>\n",
       "      <td>55.757415</td>\n",
       "      <td>40.177307</td>\n",
       "      <td>496.123024</td>\n",
       "      <td>2.703626</td>\n",
       "      <td>1.328095</td>\n",
       "      <td>79442.502883</td>\n",
       "    </tr>\n",
       "    <tr>\n",
       "      <th>min</th>\n",
       "      <td>1.000000</td>\n",
       "      <td>20.000000</td>\n",
       "      <td>21.000000</td>\n",
       "      <td>1300.000000</td>\n",
       "      <td>1.000000</td>\n",
       "      <td>1.000000</td>\n",
       "      <td>1872.000000</td>\n",
       "      <td>1950.000000</td>\n",
       "      <td>0.000000</td>\n",
       "      <td>0.000000</td>\n",
       "      <td>...</td>\n",
       "      <td>0.000000</td>\n",
       "      <td>0.000000</td>\n",
       "      <td>0.000000</td>\n",
       "      <td>0.000000</td>\n",
       "      <td>0.000000</td>\n",
       "      <td>0.000000</td>\n",
       "      <td>0.000000</td>\n",
       "      <td>1.000000</td>\n",
       "      <td>2006.000000</td>\n",
       "      <td>34900.000000</td>\n",
       "    </tr>\n",
       "    <tr>\n",
       "      <th>25%</th>\n",
       "      <td>365.750000</td>\n",
       "      <td>20.000000</td>\n",
       "      <td>59.000000</td>\n",
       "      <td>7553.500000</td>\n",
       "      <td>5.000000</td>\n",
       "      <td>5.000000</td>\n",
       "      <td>1954.000000</td>\n",
       "      <td>1967.000000</td>\n",
       "      <td>0.000000</td>\n",
       "      <td>0.000000</td>\n",
       "      <td>...</td>\n",
       "      <td>0.000000</td>\n",
       "      <td>0.000000</td>\n",
       "      <td>0.000000</td>\n",
       "      <td>0.000000</td>\n",
       "      <td>0.000000</td>\n",
       "      <td>0.000000</td>\n",
       "      <td>0.000000</td>\n",
       "      <td>5.000000</td>\n",
       "      <td>2007.000000</td>\n",
       "      <td>129975.000000</td>\n",
       "    </tr>\n",
       "    <tr>\n",
       "      <th>50%</th>\n",
       "      <td>730.500000</td>\n",
       "      <td>50.000000</td>\n",
       "      <td>69.000000</td>\n",
       "      <td>9478.500000</td>\n",
       "      <td>6.000000</td>\n",
       "      <td>5.000000</td>\n",
       "      <td>1973.000000</td>\n",
       "      <td>1994.000000</td>\n",
       "      <td>0.000000</td>\n",
       "      <td>383.500000</td>\n",
       "      <td>...</td>\n",
       "      <td>0.000000</td>\n",
       "      <td>25.000000</td>\n",
       "      <td>0.000000</td>\n",
       "      <td>0.000000</td>\n",
       "      <td>0.000000</td>\n",
       "      <td>0.000000</td>\n",
       "      <td>0.000000</td>\n",
       "      <td>6.000000</td>\n",
       "      <td>2008.000000</td>\n",
       "      <td>163000.000000</td>\n",
       "    </tr>\n",
       "    <tr>\n",
       "      <th>75%</th>\n",
       "      <td>1095.250000</td>\n",
       "      <td>70.000000</td>\n",
       "      <td>80.000000</td>\n",
       "      <td>11601.500000</td>\n",
       "      <td>7.000000</td>\n",
       "      <td>6.000000</td>\n",
       "      <td>2000.000000</td>\n",
       "      <td>2004.000000</td>\n",
       "      <td>166.000000</td>\n",
       "      <td>712.250000</td>\n",
       "      <td>...</td>\n",
       "      <td>168.000000</td>\n",
       "      <td>68.000000</td>\n",
       "      <td>0.000000</td>\n",
       "      <td>0.000000</td>\n",
       "      <td>0.000000</td>\n",
       "      <td>0.000000</td>\n",
       "      <td>0.000000</td>\n",
       "      <td>8.000000</td>\n",
       "      <td>2009.000000</td>\n",
       "      <td>214000.000000</td>\n",
       "    </tr>\n",
       "    <tr>\n",
       "      <th>max</th>\n",
       "      <td>1460.000000</td>\n",
       "      <td>190.000000</td>\n",
       "      <td>313.000000</td>\n",
       "      <td>215245.000000</td>\n",
       "      <td>10.000000</td>\n",
       "      <td>9.000000</td>\n",
       "      <td>2010.000000</td>\n",
       "      <td>2010.000000</td>\n",
       "      <td>1600.000000</td>\n",
       "      <td>5644.000000</td>\n",
       "      <td>...</td>\n",
       "      <td>857.000000</td>\n",
       "      <td>547.000000</td>\n",
       "      <td>552.000000</td>\n",
       "      <td>508.000000</td>\n",
       "      <td>480.000000</td>\n",
       "      <td>738.000000</td>\n",
       "      <td>15500.000000</td>\n",
       "      <td>12.000000</td>\n",
       "      <td>2010.000000</td>\n",
       "      <td>755000.000000</td>\n",
       "    </tr>\n",
       "  </tbody>\n",
       "</table>\n",
       "<p>8 rows × 38 columns</p>\n",
       "</div>"
      ],
      "text/plain": [
       "                Id   MSSubClass  LotFrontage        LotArea  OverallQual  \\\n",
       "count  1460.000000  1460.000000  1201.000000    1460.000000  1460.000000   \n",
       "mean    730.500000    56.897260    70.049958   10516.828082     6.099315   \n",
       "std     421.610009    42.300571    24.284752    9981.264932     1.382997   \n",
       "min       1.000000    20.000000    21.000000    1300.000000     1.000000   \n",
       "25%     365.750000    20.000000    59.000000    7553.500000     5.000000   \n",
       "50%     730.500000    50.000000    69.000000    9478.500000     6.000000   \n",
       "75%    1095.250000    70.000000    80.000000   11601.500000     7.000000   \n",
       "max    1460.000000   190.000000   313.000000  215245.000000    10.000000   \n",
       "\n",
       "       OverallCond    YearBuilt  YearRemodAdd   MasVnrArea   BsmtFinSF1  ...  \\\n",
       "count  1460.000000  1460.000000   1460.000000  1452.000000  1460.000000  ...   \n",
       "mean      5.575342  1971.267808   1984.865753   103.685262   443.639726  ...   \n",
       "std       1.112799    30.202904     20.645407   181.066207   456.098091  ...   \n",
       "min       1.000000  1872.000000   1950.000000     0.000000     0.000000  ...   \n",
       "25%       5.000000  1954.000000   1967.000000     0.000000     0.000000  ...   \n",
       "50%       5.000000  1973.000000   1994.000000     0.000000   383.500000  ...   \n",
       "75%       6.000000  2000.000000   2004.000000   166.000000   712.250000  ...   \n",
       "max       9.000000  2010.000000   2010.000000  1600.000000  5644.000000  ...   \n",
       "\n",
       "        WoodDeckSF  OpenPorchSF  EnclosedPorch    3SsnPorch  ScreenPorch  \\\n",
       "count  1460.000000  1460.000000    1460.000000  1460.000000  1460.000000   \n",
       "mean     94.244521    46.660274      21.954110     3.409589    15.060959   \n",
       "std     125.338794    66.256028      61.119149    29.317331    55.757415   \n",
       "min       0.000000     0.000000       0.000000     0.000000     0.000000   \n",
       "25%       0.000000     0.000000       0.000000     0.000000     0.000000   \n",
       "50%       0.000000    25.000000       0.000000     0.000000     0.000000   \n",
       "75%     168.000000    68.000000       0.000000     0.000000     0.000000   \n",
       "max     857.000000   547.000000     552.000000   508.000000   480.000000   \n",
       "\n",
       "          PoolArea       MiscVal       MoSold       YrSold      SalePrice  \n",
       "count  1460.000000   1460.000000  1460.000000  1460.000000    1460.000000  \n",
       "mean      2.758904     43.489041     6.321918  2007.815753  180921.195890  \n",
       "std      40.177307    496.123024     2.703626     1.328095   79442.502883  \n",
       "min       0.000000      0.000000     1.000000  2006.000000   34900.000000  \n",
       "25%       0.000000      0.000000     5.000000  2007.000000  129975.000000  \n",
       "50%       0.000000      0.000000     6.000000  2008.000000  163000.000000  \n",
       "75%       0.000000      0.000000     8.000000  2009.000000  214000.000000  \n",
       "max     738.000000  15500.000000    12.000000  2010.000000  755000.000000  \n",
       "\n",
       "[8 rows x 38 columns]"
      ]
     },
     "execution_count": 5,
     "metadata": {},
     "output_type": "execute_result"
    }
   ],
   "source": [
    "train_df.describe()"
   ]
  },
  {
   "cell_type": "markdown",
   "id": "8319e003",
   "metadata": {
    "papermill": {
     "duration": 0.007418,
     "end_time": "2025-06-05T18:02:30.583703",
     "exception": false,
     "start_time": "2025-06-05T18:02:30.576285",
     "status": "completed"
    },
    "tags": []
   },
   "source": [
    "This summary provides basic statistics for the numerical features. A few key insights:\n",
    "\n",
    "- Many features (e.g. `3SsnPorch`, `PoolArea`, `MiscVal`, `MasVnrArea`) have a **median of 0**, suggesting they are missing in most homes. These might benefit from being transformed into binary indicators (e.g. \"HasPool\").\n",
    "- Several features such as `LotArea`, `GrLivArea` and `SalePrice` are **heavily skewed** and contain outliers. Log-transformations may help stabilize variance and improve model performance.\n",
    "- `LotFrontage` shows only 1201 non-null values out of 1460 ⇒ needs imputation.\n",
    "- `SalePrice` (our target) has a wide range (from \\$34,900 to \\$755,000), and is not normally distributed — log-scaling will likely help.\n",
    "\n",
    "In the next step, we will visualize these distributions and start preparing the dataset for modeling.\n"
   ]
  },
  {
   "cell_type": "code",
   "execution_count": 6,
   "id": "a310120a",
   "metadata": {
    "execution": {
     "iopub.execute_input": "2025-06-05T18:02:30.600259Z",
     "iopub.status.busy": "2025-06-05T18:02:30.599887Z",
     "iopub.status.idle": "2025-06-05T18:02:30.614356Z",
     "shell.execute_reply": "2025-06-05T18:02:30.613316Z"
    },
    "papermill": {
     "duration": 0.024663,
     "end_time": "2025-06-05T18:02:30.616038",
     "exception": false,
     "start_time": "2025-06-05T18:02:30.591375",
     "status": "completed"
    },
    "tags": []
   },
   "outputs": [
    {
     "data": {
      "text/plain": [
       "PoolQC          1453\n",
       "MiscFeature     1406\n",
       "Alley           1369\n",
       "Fence           1179\n",
       "MasVnrType       872\n",
       "FireplaceQu      690\n",
       "LotFrontage      259\n",
       "GarageType        81\n",
       "GarageYrBlt       81\n",
       "GarageFinish      81\n",
       "GarageQual        81\n",
       "GarageCond        81\n",
       "BsmtFinType2      38\n",
       "BsmtExposure      38\n",
       "BsmtFinType1      37\n",
       "BsmtCond          37\n",
       "BsmtQual          37\n",
       "MasVnrArea         8\n",
       "Electrical         1\n",
       "dtype: int64"
      ]
     },
     "execution_count": 6,
     "metadata": {},
     "output_type": "execute_result"
    }
   ],
   "source": [
    "missing_values = train_df.isnull().sum()\n",
    "missing_values[missing_values > 0].sort_values(ascending=False)"
   ]
  },
  {
   "cell_type": "markdown",
   "id": "a0153178",
   "metadata": {
    "papermill": {
     "duration": 0.006814,
     "end_time": "2025-06-05T18:02:30.629844",
     "exception": false,
     "start_time": "2025-06-05T18:02:30.623030",
     "status": "completed"
    },
    "tags": []
   },
   "source": [
    "Here are the columns with missing values, sorted by number of nulls:\n",
    "\n",
    "- Features like `PoolQC`, `MiscFeature`, `Alley`, and `Fence` have **over 80% missing values**. These likely indicate the absence of the feature (e.g. no pool, no alley access) and should be filled with `\"None\"` or dropped if not useful.\n",
    "- `FireplaceQu`, `Garage*`, and `Bsmt*` are moderately missing and will require conditional imputation (e.g. `\"None\"` if no fireplace, garage, or basement).\n",
    "- `LotFrontage` has ~18% missing values and may benefit from **median imputation based on Neighborhood**, which captures lot size patterns.\n",
    "- `MasVnrArea` and `MasVnrType` are related — missing values might mean no masonry veneer. Impute accordingly.\n",
    "- `Electrical` has only one missing value and can safely be imputed using the most frequent value (`\"SBrkr\"`).\n",
    "\n",
    "We’ll address these issues in the data cleaning phase before modeling.\n"
   ]
  },
  {
   "cell_type": "markdown",
   "id": "51664357",
   "metadata": {
    "papermill": {
     "duration": 0.006706,
     "end_time": "2025-06-05T18:02:30.644060",
     "exception": false,
     "start_time": "2025-06-05T18:02:30.637354",
     "status": "completed"
    },
    "tags": []
   },
   "source": [
    "## 3. Missing values\n"
   ]
  },
  {
   "cell_type": "code",
   "execution_count": null,
   "id": "b2f62388",
   "metadata": {
    "execution": {
     "iopub.execute_input": "2025-06-05T18:02:30.661421Z",
     "iopub.status.busy": "2025-06-05T18:02:30.659932Z",
     "iopub.status.idle": "2025-06-05T18:02:33.720165Z",
     "shell.execute_reply": "2025-06-05T18:02:33.719068Z"
    },
    "papermill": {
     "duration": 3.071724,
     "end_time": "2025-06-05T18:02:33.722661",
     "exception": false,
     "start_time": "2025-06-05T18:02:30.650937",
     "status": "completed"
    },
    "tags": []
   },
   "outputs": [
    {
     "data": {
      "image/png": "[encoded data removed]",
      "text/plain": [
       "<Figure size 1600x1000 with 1 Axes>"
      ]
     },
     "metadata": {},
     "output_type": "display_data"
    }
   ],
   "source": [
    "import seaborn as sns\n",
    "import matplotlib.pyplot as plt\n",
    "\n",
    "missing_data = train_df.isnull()\n",
    "\n",
    "\n",
    "plt.figure(figsize=(16, 10))\n",
    "\n",
    "sns.heatmap(missing_data, \n",
    "            cbar=False, \n",
    "            cmap=\"YlOrRd\", \n",
    "            yticklabels=False)\n",
    "\n",
    "plt.title(\"Heatmap of Missing Values in the Training Set\", fontsize=16)\n",
    "plt.xlabel(\"Features\", fontsize=12)\n",
    "plt.show()\n"
   ]
  },
  {
   "cell_type": "markdown",
   "id": "95c7afb3",
   "metadata": {
    "papermill": {
     "duration": 0.009986,
     "end_time": "2025-06-05T18:02:33.742666",
     "exception": false,
     "start_time": "2025-06-05T18:02:33.732680",
     "status": "completed"
    },
    "tags": []
   },
   "source": [
    "Fill \"None\" for features that imply absence of a property"
   ]
  },
  {
   "cell_type": "code",
   "execution_count": null,
   "id": "70af7b0f",
   "metadata": {
    "execution": {
     "iopub.execute_input": "2025-06-05T18:02:33.764420Z",
     "iopub.status.busy": "2025-06-05T18:02:33.763877Z",
     "iopub.status.idle": "2025-06-05T18:02:33.774069Z",
     "shell.execute_reply": "2025-06-05T18:02:33.773181Z"
    },
    "papermill": {
     "duration": 0.02324,
     "end_time": "2025-06-05T18:02:33.776116",
     "exception": false,
     "start_time": "2025-06-05T18:02:33.752876",
     "status": "completed"
    },
    "tags": []
   },
   "outputs": [],
   "source": [
    "def clean_data(df):\n",
    " \n",
    "    none_fill_cols = ['PoolQC', 'MiscFeature', 'Alley', 'Fence', 'FireplaceQu']\n",
    "    for col in none_fill_cols:\n",
    "        if col in df.columns:\n",
    "            df[col] = df[col].fillna(\"None\")\n",
    "    garage_cat = ['GarageType', 'GarageFinish', 'GarageQual', 'GarageCond']\n",
    "    for col in garage_cat:\n",
    "        if col in df.columns:\n",
    "            df[col] = df[col].fillna(\"None\")\n",
    "    if 'GarageYrBlt' in df.columns:\n",
    "        df['GarageYrBlt'] = df['GarageYrBlt'].fillna(0)\n",
    "\n",
    "    bsmt_cat = ['BsmtQual', 'BsmtCond', 'BsmtExposure', 'BsmtFinType1', 'BsmtFinType2']\n",
    "    for col in bsmt_cat:\n",
    "        if col in df.columns:\n",
    "            df[col] = df[col].fillna(\"None\")\n",
    "\n",
    "    if 'MasVnrType' in df.columns:\n",
    "        df['MasVnrType'] = df['MasVnrType'].fillna(\"None\")\n",
    "    if 'MasVnrArea' in df.columns:\n",
    "        df['MasVnrArea'] = df['MasVnrArea'].fillna(0)\n",
    "\n",
    "    if 'LotFrontage' in df.columns and 'Neighborhood' in df.columns:\n",
    "        df['LotFrontage'] = df.groupby(\"Neighborhood\")['LotFrontage'].transform(\n",
    "            lambda x: x.fillna(x.median())\n",
    "        )\n",
    "\n",
    "    if 'Electrical' in df.columns:\n",
    "        df['Electrical'] = df['Electrical'].fillna(df['Electrical'].mode()[0])\n",
    "\n",
    "    return df\n",
    "\n"
   ]
  },
  {
   "cell_type": "code",
   "execution_count": null,
   "id": "fe5e80ed",
   "metadata": {
    "execution": {
     "iopub.execute_input": "2025-06-05T18:02:33.797391Z",
     "iopub.status.busy": "2025-06-05T18:02:33.797006Z",
     "iopub.status.idle": "2025-06-05T18:02:33.806198Z",
     "shell.execute_reply": "2025-06-05T18:02:33.805034Z"
    },
    "papermill": {
     "duration": 0.021573,
     "end_time": "2025-06-05T18:02:33.807824",
     "exception": false,
     "start_time": "2025-06-05T18:02:33.786251",
     "status": "completed"
    },
    "tags": []
   },
   "outputs": [],
   "source": [
    "def clean_data(df):\n",
    "     \n",
    " \n",
    "    none_fill_cols = ['PoolQC', 'MiscFeature', 'Alley', 'Fence', 'FireplaceQu']\n",
    "    for col in none_fill_cols:\n",
    "        if col in df.columns:\n",
    "            df[col] = df[col].fillna(\"None\")\n",
    "\n",
    "    garage_cat = ['GarageType', 'GarageFinish', 'GarageQual', 'GarageCond']\n",
    "    for col in garage_cat:\n",
    "        if col in df.columns:\n",
    "            df[col] = df[col].fillna(\"None\")\n",
    "    if 'GarageYrBlt' in df.columns:\n",
    "        df['GarageYrBlt'] = df['GarageYrBlt'].fillna(0)\n",
    " \n",
    "    bsmt_cat = ['BsmtQual', 'BsmtCond', 'BsmtExposure', 'BsmtFinType1', 'BsmtFinType2']\n",
    "    for col in bsmt_cat:\n",
    "        if col in df.columns:\n",
    "            df[col] = df[col].fillna(\"None\")\n",
    " \n",
    "    if 'MasVnrType' in df.columns:\n",
    "        df['MasVnrType'] = df['MasVnrType'].fillna(\"None\")\n",
    "    if 'MasVnrArea' in df.columns:\n",
    "        df['MasVnrArea'] = df['MasVnrArea'].fillna(0)\n",
    " \n",
    "    if 'LotFrontage' in df.columns and 'Neighborhood' in df.columns:\n",
    "        df['LotFrontage'] = df.groupby(\"Neighborhood\")['LotFrontage'].transform(\n",
    "            lambda x: x.fillna(x.median())\n",
    "        )\n",
    "\n",
    " \n",
    "    if 'Electrical' in df.columns:\n",
    "        df['Electrical'] = df['Electrical'].fillna(df['Electrical'].mode()[0])\n",
    "\n",
    "    return df\n"
   ]
  },
  {
   "cell_type": "code",
   "execution_count": null,
   "id": "ab48cb3a",
   "metadata": {
    "execution": {
     "iopub.execute_input": "2025-06-05T18:02:33.829231Z",
     "iopub.status.busy": "2025-06-05T18:02:33.828884Z",
     "iopub.status.idle": "2025-06-05T18:02:33.879425Z",
     "shell.execute_reply": "2025-06-05T18:02:33.878303Z"
    },
    "papermill": {
     "duration": 0.063532,
     "end_time": "2025-06-05T18:02:33.881186",
     "exception": false,
     "start_time": "2025-06-05T18:02:33.817654",
     "status": "completed"
    },
    "tags": []
   },
   "outputs": [
    {
     "name": "stdout",
     "output_type": "stream",
     "text": [
      "Missing values in train set: 0\n",
      "Missing values in test set: 22\n"
     ]
    }
   ],
   "source": [
    "train_df = clean_data(train_df)\n",
    "test_df = clean_data(test_df)\n",
    "\n",
    "print(\"Missing values in train set:\", train_df.isnull().sum().sum())\n",
    "print(\"Missing values in test set:\", test_df.isnull().sum().sum())\n"
   ]
  },
  {
   "cell_type": "code",
   "execution_count": 11,
   "id": "e8ef8e06",
   "metadata": {
    "execution": {
     "iopub.execute_input": "2025-06-05T18:02:33.903300Z",
     "iopub.status.busy": "2025-06-05T18:02:33.902922Z",
     "iopub.status.idle": "2025-06-05T18:02:33.922886Z",
     "shell.execute_reply": "2025-06-05T18:02:33.921870Z"
    },
    "papermill": {
     "duration": 0.032703,
     "end_time": "2025-06-05T18:02:33.924669",
     "exception": false,
     "start_time": "2025-06-05T18:02:33.891966",
     "status": "completed"
    },
    "tags": []
   },
   "outputs": [
    {
     "data": {
      "text/plain": [
       "MSZoning        4\n",
       "Utilities       2\n",
       "BsmtFullBath    2\n",
       "BsmtHalfBath    2\n",
       "Functional      2\n",
       "Exterior1st     1\n",
       "Exterior2nd     1\n",
       "BsmtFinSF1      1\n",
       "BsmtFinSF2      1\n",
       "BsmtUnfSF       1\n",
       "TotalBsmtSF     1\n",
       "KitchenQual     1\n",
       "GarageCars      1\n",
       "GarageArea      1\n",
       "SaleType        1\n",
       "dtype: int64"
      ]
     },
     "execution_count": 11,
     "metadata": {},
     "output_type": "execute_result"
    }
   ],
   "source": [
    "test_df.isnull().sum()[test_df.isnull().sum() > 0].sort_values(ascending=False)\n"
   ]
  },
  {
   "cell_type": "code",
   "execution_count": null,
   "id": "c4b9a734",
   "metadata": {
    "execution": {
     "iopub.execute_input": "2025-06-05T18:02:33.946308Z",
     "iopub.status.busy": "2025-06-05T18:02:33.945921Z",
     "iopub.status.idle": "2025-06-05T18:02:33.963767Z",
     "shell.execute_reply": "2025-06-05T18:02:33.962763Z"
    },
    "papermill": {
     "duration": 0.03085,
     "end_time": "2025-06-05T18:02:33.965656",
     "exception": false,
     "start_time": "2025-06-05T18:02:33.934806",
     "status": "completed"
    },
    "tags": []
   },
   "outputs": [],
   "source": [
    "cat_mode_cols = ['MSZoning', 'Utilities', 'Functional', 'Exterior1st',\n",
    "                 'Exterior2nd', 'KitchenQual', 'SaleType']\n",
    "for col in cat_mode_cols:\n",
    "    test_df[col] = test_df[col].fillna(test_df[col].mode()[0])\n",
    "\n",
    "num_zero_cols = ['BsmtFullBath', 'BsmtHalfBath', 'BsmtFinSF1', 'BsmtFinSF2',\n",
    "                 'BsmtUnfSF', 'TotalBsmtSF', 'GarageCars', 'GarageArea']\n",
    "for col in num_zero_cols:\n",
    "    test_df[col] = test_df[col].fillna(0)\n"
   ]
  },
  {
   "cell_type": "code",
   "execution_count": null,
   "id": "5111e0c5",
   "metadata": {
    "execution": {
     "iopub.execute_input": "2025-06-05T18:02:33.987270Z",
     "iopub.status.busy": "2025-06-05T18:02:33.986917Z",
     "iopub.status.idle": "2025-06-05T18:02:34.005750Z",
     "shell.execute_reply": "2025-06-05T18:02:34.004621Z"
    },
    "papermill": {
     "duration": 0.031569,
     "end_time": "2025-06-05T18:02:34.007534",
     "exception": false,
     "start_time": "2025-06-05T18:02:33.975965",
     "status": "completed"
    },
    "tags": []
   },
   "outputs": [
    {
     "data": {
      "text/plain": [
       "Series([], dtype: int64)"
      ]
     },
     "execution_count": 13,
     "metadata": {},
     "output_type": "execute_result"
    }
   ],
   "source": [
    "missing_test_final = test_df.isnull().sum()[test_df.isnull().sum() > 0]\n",
    "missing_test_final\n"
   ]
  },
  {
   "cell_type": "markdown",
   "id": "619c3529",
   "metadata": {
    "papermill": {
     "duration": 0.009566,
     "end_time": "2025-06-05T18:02:34.027308",
     "exception": false,
     "start_time": "2025-06-05T18:02:34.017742",
     "status": "completed"
    },
    "tags": []
   },
   "source": [
    "## 4. Feature Engineering"
   ]
  },
  {
   "cell_type": "code",
   "execution_count": null,
   "id": "eb370ac2",
   "metadata": {
    "execution": {
     "iopub.execute_input": "2025-06-05T18:02:34.048918Z",
     "iopub.status.busy": "2025-06-05T18:02:34.048566Z",
     "iopub.status.idle": "2025-06-05T18:02:34.087252Z",
     "shell.execute_reply": "2025-06-05T18:02:34.085921Z"
    },
    "papermill": {
     "duration": 0.051922,
     "end_time": "2025-06-05T18:02:34.089169",
     "exception": false,
     "start_time": "2025-06-05T18:02:34.037247",
     "status": "completed"
    },
    "tags": []
   },
   "outputs": [
    {
     "name": "stdout",
     "output_type": "stream",
     "text": [
      "Sample of engineered features:\n"
     ]
    },
    {
     "data": {
      "text/html": [
       "<div>\n",
       "<style scoped>\n",
       "    .dataframe tbody tr th:only-of-type {\n",
       "        vertical-align: middle;\n",
       "    }\n",
       "\n",
       "    .dataframe tbody tr th {\n",
       "        vertical-align: top;\n",
       "    }\n",
       "\n",
       "    .dataframe thead th {\n",
       "        text-align: right;\n",
       "    }\n",
       "</style>\n",
       "<table border=\"1\" class=\"dataframe\">\n",
       "  <thead>\n",
       "    <tr style=\"text-align: right;\">\n",
       "      <th></th>\n",
       "      <th>SalePrice</th>\n",
       "      <th>TotalBathrooms</th>\n",
       "      <th>TotalSF</th>\n",
       "      <th>HouseAge</th>\n",
       "      <th>IsRemodeled</th>\n",
       "      <th>HasPool</th>\n",
       "      <th>HasFireplace</th>\n",
       "      <th>HasGarage</th>\n",
       "    </tr>\n",
       "  </thead>\n",
       "  <tbody>\n",
       "    <tr>\n",
       "      <th>206</th>\n",
       "      <td>11.88</td>\n",
       "      <td>1.5</td>\n",
       "      <td>2836</td>\n",
       "      <td>45</td>\n",
       "      <td>0</td>\n",
       "      <td>0</td>\n",
       "      <td>1</td>\n",
       "      <td>1</td>\n",
       "    </tr>\n",
       "    <tr>\n",
       "      <th>115</th>\n",
       "      <td>12.08</td>\n",
       "      <td>2.5</td>\n",
       "      <td>2187</td>\n",
       "      <td>8</td>\n",
       "      <td>0</td>\n",
       "      <td>0</td>\n",
       "      <td>1</td>\n",
       "      <td>1</td>\n",
       "    </tr>\n",
       "    <tr>\n",
       "      <th>524</th>\n",
       "      <td>12.66</td>\n",
       "      <td>3.5</td>\n",
       "      <td>3777</td>\n",
       "      <td>11</td>\n",
       "      <td>1</td>\n",
       "      <td>0</td>\n",
       "      <td>1</td>\n",
       "      <td>1</td>\n",
       "    </tr>\n",
       "    <tr>\n",
       "      <th>101</th>\n",
       "      <td>12.09</td>\n",
       "      <td>2.5</td>\n",
       "      <td>2473</td>\n",
       "      <td>25</td>\n",
       "      <td>0</td>\n",
       "      <td>0</td>\n",
       "      <td>1</td>\n",
       "      <td>1</td>\n",
       "    </tr>\n",
       "    <tr>\n",
       "      <th>173</th>\n",
       "      <td>12.00</td>\n",
       "      <td>2.5</td>\n",
       "      <td>2724</td>\n",
       "      <td>47</td>\n",
       "      <td>0</td>\n",
       "      <td>0</td>\n",
       "      <td>1</td>\n",
       "      <td>1</td>\n",
       "    </tr>\n",
       "  </tbody>\n",
       "</table>\n",
       "</div>"
      ],
      "text/plain": [
       "     SalePrice  TotalBathrooms  TotalSF  HouseAge  IsRemodeled  HasPool  \\\n",
       "206      11.88             1.5     2836        45            0        0   \n",
       "115      12.08             2.5     2187         8            0        0   \n",
       "524      12.66             3.5     3777        11            1        0   \n",
       "101      12.09             2.5     2473        25            0        0   \n",
       "173      12.00             2.5     2724        47            0        0   \n",
       "\n",
       "     HasFireplace  HasGarage  \n",
       "206             1          1  \n",
       "115             1          1  \n",
       "524             1          1  \n",
       "101             1          1  \n",
       "173             1          1  "
      ]
     },
     "metadata": {},
     "output_type": "display_data"
    },
    {
     "name": "stdout",
     "output_type": "stream",
     "text": [
      "\n",
      "Correlation with log(SalePrice):\n",
      "\n",
      "SalePrice         1.000000\n",
      "TotalSF           0.777297\n",
      "TotalBathrooms    0.673011\n",
      "HasFireplace      0.510026\n",
      "HasGarage         0.322998\n",
      "HasPool           0.069835\n",
      "IsRemodeled      -0.073761\n",
      "HouseAge         -0.587290\n",
      "Name: SalePrice, dtype: float64\n"
     ]
    }
   ],
   "source": [
    "import numpy as np\n",
    "train_df['SalePrice'] = np.log1p(train_df['SalePrice'])\n",
    "\n",
    "train_df['TotalBathrooms'] = (\n",
    "    train_df['FullBath'] + \n",
    "    (0.5 * train_df['HalfBath']) +\n",
    "    train_df['BsmtFullBath'] + \n",
    "    (0.5 * train_df['BsmtHalfBath'])\n",
    ")\n",
    "\n",
    "test_df['TotalBathrooms'] = (\n",
    "    test_df['FullBath'] + \n",
    "    (0.5 * test_df['HalfBath']) +\n",
    "    test_df['BsmtFullBath'] + \n",
    "    (0.5 * test_df['BsmtHalfBath'])\n",
    ")\n",
    "\n",
    "train_df['TotalSF'] = (\n",
    "    train_df['TotalBsmtSF'] + \n",
    "    train_df['1stFlrSF'] + \n",
    "    train_df['2ndFlrSF']\n",
    ")\n",
    "\n",
    "test_df['TotalSF'] = (\n",
    "    test_df['TotalBsmtSF'] + \n",
    "    test_df['1stFlrSF'] + \n",
    "    test_df['2ndFlrSF']\n",
    ")\n",
    "\n",
    "train_df['HouseAge'] = train_df['YrSold'] - train_df['YearBuilt']\n",
    "train_df['IsRemodeled'] = (train_df['YearBuilt'] != train_df['YearRemodAdd']).astype(int)\n",
    "\n",
    "test_df['HouseAge'] = test_df['YrSold'] - test_df['YearBuilt']\n",
    "test_df['IsRemodeled'] = (test_df['YearBuilt'] != test_df['YearRemodAdd']).astype(int)\n",
    "\n",
    "train_df['HasPool'] = (train_df['PoolArea'] > 0).astype(int)\n",
    "train_df['HasFireplace'] = (train_df['Fireplaces'] > 0).astype(int)\n",
    "train_df['HasGarage'] = (train_df['GarageArea'] > 0).astype(int)\n",
    "\n",
    "test_df['HasPool'] = (test_df['PoolArea'] > 0).astype(int)\n",
    "test_df['HasFireplace'] = (test_df['Fireplaces'] > 0).astype(int)\n",
    "test_df['HasGarage'] = (test_df['GarageArea'] > 0).astype(int)\n",
    "\n",
    "engineered_cols = [\n",
    "    'SalePrice', 'TotalBathrooms', 'TotalSF', 'HouseAge',\n",
    "    'IsRemodeled', 'HasPool', 'HasFireplace', 'HasGarage'\n",
    "]\n",
    "\n",
    "print(\"Sample of engineered features:\")\n",
    "display(train_df[engineered_cols].sample(5).round(2))  \n",
    "\n",
    "correlations = train_df[engineered_cols].corr()['SalePrice'].sort_values(ascending=False)\n",
    "print(\"\\nCorrelation with log(SalePrice):\\n\")\n",
    "print(correlations)\n"
   ]
  },
  {
   "cell_type": "markdown",
   "id": "c0a280c6",
   "metadata": {
    "papermill": {
     "duration": 0.010273,
     "end_time": "2025-06-05T18:02:34.111479",
     "exception": false,
     "start_time": "2025-06-05T18:02:34.101206",
     "status": "completed"
    },
    "tags": []
   },
   "source": [
    "## 5. Categorical Variable Encoding"
   ]
  },
  {
   "cell_type": "code",
   "execution_count": null,
   "id": "ad9157e6",
   "metadata": {
    "execution": {
     "iopub.execute_input": "2025-06-05T18:02:34.133894Z",
     "iopub.status.busy": "2025-06-05T18:02:34.133552Z",
     "iopub.status.idle": "2025-06-05T18:02:34.143535Z",
     "shell.execute_reply": "2025-06-05T18:02:34.142421Z"
    },
    "papermill": {
     "duration": 0.023252,
     "end_time": "2025-06-05T18:02:34.145122",
     "exception": false,
     "start_time": "2025-06-05T18:02:34.121870",
     "status": "completed"
    },
    "tags": []
   },
   "outputs": [
    {
     "name": "stdout",
     "output_type": "stream",
     "text": [
      "Ordinal columns:\n",
      "['ExterQual', 'ExterCond', 'BsmtQual', 'BsmtCond', 'HeatingQC', 'KitchenQual', 'FireplaceQu', 'GarageQual', 'GarageCond', 'PoolQC']\n",
      "\n",
      "Nominal columns:\n",
      "['MSZoning', 'Street', 'Alley', 'LotShape', 'LandContour', 'Utilities', 'LotConfig', 'LandSlope', 'Neighborhood', 'Condition1', 'Condition2', 'BldgType', 'HouseStyle', 'RoofStyle', 'RoofMatl', 'Exterior1st', 'Exterior2nd', 'MasVnrType', 'Foundation', 'BsmtExposure', 'BsmtFinType1', 'BsmtFinType2', 'Heating', 'CentralAir', 'Electrical', 'Functional', 'GarageType', 'GarageFinish', 'PavedDrive', 'Fence', 'MiscFeature', 'SaleType', 'SaleCondition']\n"
     ]
    }
   ],
   "source": [
    "cat_cols = train_df.select_dtypes(include=['object']).columns.tolist()\n",
    "\n",
    "ordinal_cols = [\n",
    "    'ExterQual', 'ExterCond', 'BsmtQual', 'BsmtCond',\n",
    "    'HeatingQC', 'KitchenQual', 'FireplaceQu',\n",
    "    'GarageQual', 'GarageCond', 'PoolQC'\n",
    "]\n",
    "\n",
    "nominal_cols = [col for col in cat_cols if col not in ordinal_cols]\n",
    "\n",
    "print(\"Ordinal columns:\")\n",
    "print(ordinal_cols)\n",
    "print(\"\\nNominal columns:\")\n",
    "print(nominal_cols)\n"
   ]
  },
  {
   "cell_type": "code",
   "execution_count": null,
   "id": "98670437",
   "metadata": {
    "execution": {
     "iopub.execute_input": "2025-06-05T18:02:34.170915Z",
     "iopub.status.busy": "2025-06-05T18:02:34.170589Z",
     "iopub.status.idle": "2025-06-05T18:02:34.207218Z",
     "shell.execute_reply": "2025-06-05T18:02:34.206145Z"
    },
    "papermill": {
     "duration": 0.053483,
     "end_time": "2025-06-05T18:02:34.209171",
     "exception": false,
     "start_time": "2025-06-05T18:02:34.155688",
     "status": "completed"
    },
    "tags": []
   },
   "outputs": [],
   "source": [
    "ordinal_mapping = {\n",
    "    'Ex': 5,  # Excellent\n",
    "    'Gd': 4,  # Good\n",
    "    'TA': 3,  # Typical/Average\n",
    "    'Fa': 2,  # Fair\n",
    "    'Po': 1,  # Poor\n",
    "    'None': 0  # No quality rating / missing converted to string earlier\n",
    "}\n",
    "\n",
    "ordinal_cols = [\n",
    "    'ExterQual', 'ExterCond',\n",
    "    'BsmtQual', 'BsmtCond',\n",
    "    'HeatingQC', 'KitchenQual',\n",
    "    'FireplaceQu', 'GarageQual', 'GarageCond',\n",
    "    'PoolQC'\n",
    "]\n",
    "\n",
    "for col in ordinal_cols:\n",
    "    for df in [train_df, test_df]:\n",
    "        df[col] = df[col].fillna('None')  # Just in case\n",
    "        df[col] = df[col].map(ordinal_mapping).astype(int)\n"
   ]
  },
  {
   "cell_type": "markdown",
   "id": "5039d53e",
   "metadata": {
    "papermill": {
     "duration": 0.011,
     "end_time": "2025-06-05T18:02:34.331125",
     "exception": false,
     "start_time": "2025-06-05T18:02:34.320125",
     "status": "completed"
    },
    "tags": []
   },
   "source": [
    "## 6. Model Training & Evaluation"
   ]
  },
  {
   "cell_type": "code",
   "execution_count": null,
   "id": "c3150d55",
   "metadata": {
    "execution": {
     "iopub.execute_input": "2025-06-05T18:02:34.355268Z",
     "iopub.status.busy": "2025-06-05T18:02:34.354566Z",
     "iopub.status.idle": "2025-06-05T18:02:35.194231Z",
     "shell.execute_reply": "2025-06-05T18:02:35.193184Z"
    },
    "papermill": {
     "duration": 0.857477,
     "end_time": "2025-06-05T18:02:35.199047",
     "exception": false,
     "start_time": "2025-06-05T18:02:34.341570",
     "status": "completed"
    },
    "tags": []
   },
   "outputs": [
    {
     "name": "stdout",
     "output_type": "stream",
     "text": [
      "RMSE scores (5-fold CV): [0.201  0.1297 0.2199 0.1525 0.1937]\n",
      "Mean RMSE: 0.1794\n",
      "Std Dev of RMSE: 0.0332\n"
     ]
    }
   ],
   "source": [
    "from sklearn.linear_model import LinearRegression\n",
    "from sklearn.model_selection import cross_val_score, KFold\n",
    "from sklearn.metrics import mean_squared_error\n",
    "import numpy as np\n",
    "\n",
    "X = train_encoded.drop('SalePrice', axis=1)\n",
    "y = train_encoded['SalePrice']\n",
    "\n",
    "linreg = LinearRegression()\n",
    "\n",
    "cv = KFold(n_splits=5, shuffle=True, random_state=42)\n",
    "\n",
    "neg_rmse_scores = cross_val_score(linreg, X, y, scoring='neg_root_mean_squared_error', cv=cv)\n",
    "rmse_scores = -neg_rmse_scores  \n",
    "\n",
    "print(\"RMSE scores (5-fold CV):\", rmse_scores.round(4))\n",
    "print(\"Mean RMSE:\", rmse_scores.mean().round(4))\n",
    "print(\"Std Dev of RMSE:\", rmse_scores.std().round(4))\n"
   ]
  },
  {
   "cell_type": "code",
   "execution_count": null,
   "id": "3b8e0ec8",
   "metadata": {
    "execution": {
     "iopub.execute_input": "2025-06-05T18:02:35.236334Z",
     "iopub.status.busy": "2025-06-05T18:02:35.235903Z",
     "iopub.status.idle": "2025-06-05T18:02:35.381956Z",
     "shell.execute_reply": "2025-06-05T18:02:35.381124Z"
    },
    "papermill": {
     "duration": 0.167222,
     "end_time": "2025-06-05T18:02:35.384169",
     "exception": false,
     "start_time": "2025-06-05T18:02:35.216947",
     "status": "completed"
    },
    "tags": []
   },
   "outputs": [
    {
     "name": "stdout",
     "output_type": "stream",
     "text": [
      "Ridge RMSE: 0.1467\n"
     ]
    }
   ],
   "source": [
    "from sklearn.linear_model import Ridge\n",
    "\n",
    "ridge = Ridge(alpha=10) \n",
    "ridge_scores = -cross_val_score(ridge, X, y, scoring='neg_root_mean_squared_error', cv=cv)\n",
    "print(\"Ridge RMSE:\", ridge_scores.mean().round(4))\n",
    "\n"
   ]
  },
  {
   "cell_type": "code",
   "execution_count": 20,
   "id": "6110788b",
   "metadata": {
    "execution": {
     "iopub.execute_input": "2025-06-05T18:02:35.424823Z",
     "iopub.status.busy": "2025-06-05T18:02:35.423678Z",
     "iopub.status.idle": "2025-06-05T18:03:03.336696Z",
     "shell.execute_reply": "2025-06-05T18:03:03.335448Z"
    },
    "papermill": {
     "duration": 27.936908,
     "end_time": "2025-06-05T18:03:03.338395",
     "exception": false,
     "start_time": "2025-06-05T18:02:35.401487",
     "status": "completed"
    },
    "tags": []
   },
   "outputs": [
    {
     "name": "stdout",
     "output_type": "stream",
     "text": [
      "Lasso RMSE: 0.1474\n"
     ]
    }
   ],
   "source": [
    "from sklearn.linear_model import Lasso\n",
    "\n",
    "lasso = Lasso(alpha=0.001, random_state=42, max_iter=50000)\n",
    "\n",
    "lasso_scores = -cross_val_score(lasso, X, y, scoring='neg_root_mean_squared_error', cv=cv)\n",
    "print(\"Lasso RMSE:\", lasso_scores.mean().round(4))\n"
   ]
  },
  {
   "cell_type": "code",
   "execution_count": null,
   "id": "98732bc3",
   "metadata": {
    "execution": {
     "iopub.execute_input": "2025-06-05T18:03:03.362073Z",
     "iopub.status.busy": "2025-06-05T18:03:03.361728Z",
     "iopub.status.idle": "2025-06-05T18:03:49.716381Z",
     "shell.execute_reply": "2025-06-05T18:03:49.715388Z"
    },
    "papermill": {
     "duration": 46.378737,
     "end_time": "2025-06-05T18:03:49.728758",
     "exception": false,
     "start_time": "2025-06-05T18:03:03.350021",
     "status": "completed"
    },
    "tags": []
   },
   "outputs": [
    {
     "name": "stdout",
     "output_type": "stream",
     "text": [
      "ElasticNet RMSE scores (5-fold CV): [0.1421 0.1237 0.2181 0.1416 0.1158]\n",
      "Mean RMSE: 0.1482\n",
      "Best alpha: 0.04832930238571752\n",
      "Best l1_ratio: 0.1\n"
     ]
    }
   ],
   "source": [
    "from sklearn.linear_model import ElasticNetCV\n",
    "from sklearn.pipeline import make_pipeline\n",
    "from sklearn.preprocessing import StandardScaler\n",
    "\n",
    "# Grid Search and 5-fold CV\n",
    "elastic_net = make_pipeline(\n",
    "    StandardScaler(),\n",
    "    ElasticNetCV(\n",
    "        l1_ratio=[.1, .3, .5, .7, .9, .95, .99, 1],\n",
    "        alphas=np.logspace(-4, -1, 20),\n",
    "        cv=5,\n",
    "        max_iter=10000,\n",
    "        random_state=42\n",
    "    )\n",
    ")\n",
    "\n",
    "elastic_net.fit(X, y)\n",
    "\n",
    "cv = KFold(n_splits=5, shuffle=True, random_state=42)\n",
    "neg_rmse_scores = cross_val_score(elastic_net, X, y, scoring='neg_root_mean_squared_error', cv=cv)\n",
    "rmse_scores = -neg_rmse_scores\n",
    "\n",
    "# Results\n",
    "print(\"ElasticNet RMSE scores (5-fold CV):\", rmse_scores.round(4))\n",
    "print(\"Mean RMSE:\", rmse_scores.mean().round(4))\n",
    "print(\"Best alpha:\", elastic_net.named_steps['elasticnetcv'].alpha_)\n",
    "print(\"Best l1_ratio:\", elastic_net.named_steps['elasticnetcv'].l1_ratio_)\n"
   ]
  }
 ],
 "metadata": {
  "kaggle": {
   "accelerator": "none",
   "dataSources": [
    {
     "databundleVersionId": 868283,
     "sourceId": 5407,
     "sourceType": "competition"
    }
   ],
   "dockerImageVersionId": 31040,
   "isGpuEnabled": false,
   "isInternetEnabled": true,
   "language": "python",
   "sourceType": "notebook"
  },
  "kernelspec": {
   "display_name": "base",
   "language": "python",
   "name": "python3"
  },
  "language_info": {
   "codemirror_mode": {
    "name": "ipython",
    "version": 3
   },
   "file_extension": ".py",
   "mimetype": "text/x-python",
   "name": "python",
   "nbconvert_exporter": "python",
   "pygments_lexer": "ipython3",
   "version": "3.12.7"
  },
  "papermill": {
   "default_parameters": {},
   "duration": 89.527785,
   "end_time": "2025-06-05T18:03:50.715455",
   "environment_variables": {},
   "exception": null,
   "input_path": "__notebook__.ipynb",
   "output_path": "__notebook__.ipynb",
   "parameters": {},
   "start_time": "2025-06-05T18:02:21.187670",
   "version": "2.6.0"
  }
 },
 "nbformat": 4,
 "nbformat_minor": 5
}
